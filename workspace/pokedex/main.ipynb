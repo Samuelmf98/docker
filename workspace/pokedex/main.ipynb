{
 "cells": [
  {
   "cell_type": "code",
   "execution_count": null,
   "id": "6dd62f0e-4b72-4228-bedb-e3d95c073ab6",
   "metadata": {},
   "outputs": [],
   "source": []
  },
  {
   "cell_type": "code",
   "execution_count": 72,
   "id": "f8319e54-c779-4a2d-91fc-0b8da266a1a3",
   "metadata": {},
   "outputs": [],
   "source": [
    "import pandas as pd\n",
    "import time\n",
    "\n",
    "class pokedex:\n",
    "    def __init__(self,numero):\n",
    "        self.n=numero\n",
    "        self.lista_pokemon = []\n",
    "        self.lista_tipo = []\n",
    "\n",
    "class pokemon(pokedex):\n",
    "    def __init__(self):\n",
    "        time.sleep(1)\n",
    "        print('-------------------------------')\n",
    "        print('BIENVENIDO A TU PRIMERA POKEDEX')\n",
    "        print('-------------------------------')\n",
    "        time.sleep(1.5)\n",
    "        n = int(input('Introduce el número de pokémon que quieres agregar a tu Pokédex: '))\n",
    "        super().__init__(n)\n",
    "        self.pokemon_ataque = None\n",
    "\n",
    "    def obtener_pokemon(self):\n",
    "        for i in range(self.n):\n",
    "            nombre = input(f'Introduce el nombre del pokemon {i+1}: ')\n",
    "            self.lista_pokemon.append(nombre)\n",
    "            tipo = input(f'Introduce el tipo del pokemon {nombre}: ')\n",
    "            self.lista_tipo.append(tipo)\n",
    "        self.pokedex_df = pd.DataFrame({'pokemon': self.lista_pokemon, 'tipo': self.lista_tipo})\n",
    "        return self.pokedex_df\n",
    "    \n",
    "    def asignar_ataque(self):\n",
    "        self.pokemon_ataque = input('Introduce un pokemon para asignarle un ataque: ')\n",
    "\n",
    "        while self.pokemon_ataque not in self.pokedex_df['pokemon'].tolist():\n",
    "            respuesta = input(f'No se encontró el Pokémon {self.pokemon_ataque} en la Pokedex. ¿Quieres intentarlo de nuevo? (si/no): ')\n",
    "\n",
    "            if respuesta.lower() == 'si':\n",
    "                self.pokemon_ataque = input('Introduce el nombre del Pokémon: ')\n",
    "            elif respuesta.lower() == 'no':\n",
    "                print('No se realizaron cambios en la Pokedex.')\n",
    "                break\n",
    "            else:\n",
    "                print('Respuesta no válida. Por favor, responde con \"si\" o \"no\".')\n",
    "\n",
    "        if self.pokemon_ataque in self.pokedex_df['pokemon'].tolist():\n",
    "            index = self.pokedex_df['pokemon'].tolist().index(self.pokemon_ataque)\n",
    "            ataque = input(f'Introduce el ataque para {self.pokemon_ataque}: ')\n",
    "\n",
    "            # Asignar el ataque en el DataFrame\n",
    "            self.pokedex_df.at[index, 'ataque'] = ataque\n",
    "\n",
    "            print(f'Se ha asignado el ataque {ataque} a {self.pokemon_ataque}.')\n",
    "\n",
    "\n",
    "        return self.pokedex_df\n",
    "                \n",
    "    \n",
    "class GestorPokedex:\n",
    "    def __init__(self, pokedex):\n",
    "        self.pokedex = pokedex\n",
    "\n",
    "    def agregar_registro(self):\n",
    "        while True:\n",
    "            self.nuevo_registro = input('¿Quieres agregar un nuevo registro? (si/no): ')\n",
    "            if self.nuevo_registro.lower() in ['si', 'sí']:\n",
    "                self.nuevo_pokemon = input('Introduce el nombre del nuevo pokemon: ')\n",
    "                self.nuevo_tipo = input(f'Introduce el tipo del pokemon {self.nuevo_pokemon}: ')\n",
    "                self.nuevo_ataque = input(f'Introduce un ataque para el pokemon {self.nuevo_pokemon}: ')\n",
    "\n",
    "                nueva_fila = {'pokemon': self.nuevo_pokemon, 'tipo': self.nuevo_tipo, 'ataque': self.nuevo_ataque}\n",
    "                self.pokedex.pokedex_df = self.pokedex.pokedex_df.append(nueva_fila, ignore_index=True)\n",
    "\n",
    "                print('Se ha agregado el registro a la Pokedex.')\n",
    "\n",
    "                seguir_agregando = input('¿Quieres agregar otro registro? (si/no): ')\n",
    "                if seguir_agregando.lower() not in ['si', 'sí']:\n",
    "                    break\n",
    "            else:\n",
    "                print('No se realizaron cambios en la Pokedex.')\n",
    "                break\n",
    "    \n",
    "    def eliminar_registro(self):\n",
    "        while True:\n",
    "            self.eliminar_pokemon = input('¿Quieres eliminar un nuevo registro? (si/no): ')\n",
    "\n",
    "            if self.eliminar_pokemon.lower() in ['si', 'sí']:\n",
    "                self.pokemon_a_eliminar = input('Indica el nombre del pokemon que quieres eliminar: ')\n",
    "\n",
    "                if self.pokemon_a_eliminar in self.pokedex.pokedex_df['pokemon'].tolist():\n",
    "                    if self.pokedex.pokedex_df['pokemon'].duplicated(keep='first').any():\n",
    "                        self.pokedex.pokedex_df = self.pokedex.pokedex_df[~self.pokedex.pokedex_df.duplicated(subset='pokemon', keep='first')]\n",
    "                        print(f'Se eliminaron duplicados en la Pokedex.')\n",
    "                    else:\n",
    "                        self.pokedex.pokedex_df = self.pokedex.pokedex_df[self.pokedex.pokedex_df['pokemon'] != self.pokemon_a_eliminar]\n",
    "                        print(f'Se ha eliminado el registro del Pokémon {self.pokemon_a_eliminar} de la pokedex')\n",
    "                else:\n",
    "                    print(f'No se encontró el Pokémon {self.pokemon_a_eliminar} en la Pokedex. Inténtalo de nuevo.')\n",
    "                    continue\n",
    "\n",
    "                seguir_eliminando = input('¿Quieres eliminar otro registro? (si/no): ')\n",
    "                if seguir_eliminando.lower() not in ['si', 'sí']:\n",
    "                    break\n",
    "            else:\n",
    "                print('No se realizaron cambios en la Pokedex.')\n",
    "                break\n",
    "\n",
    "\n",
    "    \n",
    "    def obtener_pokedex(self):\n",
    "        return self.pokedex.pokedex_df"
   ]
  },
  {
   "cell_type": "code",
   "execution_count": null,
   "id": "465fe3c4-38e1-4181-841f-87dc8c045c37",
   "metadata": {},
   "outputs": [],
   "source": []
  },
  {
   "cell_type": "markdown",
   "id": "cef195e8-9ff0-4f85-b07c-0ae3d545548d",
   "metadata": {},
   "source": [
    "COMENZAR A AÑADIR REGISTROS"
   ]
  },
  {
   "cell_type": "code",
   "execution_count": 85,
   "id": "3650b920-de08-4f08-b88e-54534460fac4",
   "metadata": {},
   "outputs": [
    {
     "name": "stdout",
     "output_type": "stream",
     "text": [
      "-------------------------------\n",
      "BIENVENIDO A TU PRIMERA POKEDEX\n",
      "-------------------------------\n"
     ]
    },
    {
     "name": "stdin",
     "output_type": "stream",
     "text": [
      "Introduce el número de pokémon que quieres agregar a tu Pokédex:  2\n",
      "Introduce el nombre del pokemon 1:  charmander\n",
      "Introduce el tipo del pokemon charmander:  fuego\n",
      "Introduce el nombre del pokemon 2:  evee\n",
      "Introduce el tipo del pokemon evee:  normal\n"
     ]
    },
    {
     "name": "stdout",
     "output_type": "stream",
     "text": [
      "Cargando...\n",
      "--------------------------------\n",
      "ASIGNEMOS ATAQUES A TUS POKEMON\n",
      "--------------------------------\n"
     ]
    },
    {
     "name": "stdin",
     "output_type": "stream",
     "text": [
      "Introduce un pokemon para asignarle un ataque:  charmander\n",
      "Introduce el ataque para charmander:  ascuas\n"
     ]
    },
    {
     "name": "stdout",
     "output_type": "stream",
     "text": [
      "Se ha asignado el ataque ascuas a charmander.\n"
     ]
    },
    {
     "name": "stdin",
     "output_type": "stream",
     "text": [
      "¿Quieres asignar más ataques a los Pokémon? (si/no):  si\n",
      "Introduce un pokemon para asignarle un ataque:  evee\n",
      "Introduce el ataque para evee:  placaje\n"
     ]
    },
    {
     "name": "stdout",
     "output_type": "stream",
     "text": [
      "Se ha asignado el ataque placaje a evee.\n"
     ]
    },
    {
     "name": "stdin",
     "output_type": "stream",
     "text": [
      "¿Quieres asignar más ataques a los Pokémon? (si/no):  no\n"
     ]
    },
    {
     "name": "stdout",
     "output_type": "stream",
     "text": [
      "Cargando...\n",
      "--------------------------------\n",
      "ASÍ HA QUEDADO TU POKEDEX\n",
      "--------------------------------\n",
      "      pokemon    tipo   ataque\n",
      "0  charmander   fuego   ascuas\n",
      "1        evee  normal  placaje\n"
     ]
    },
    {
     "data": {
      "text/html": [
       "<div>\n",
       "<style scoped>\n",
       "    .dataframe tbody tr th:only-of-type {\n",
       "        vertical-align: middle;\n",
       "    }\n",
       "\n",
       "    .dataframe tbody tr th {\n",
       "        vertical-align: top;\n",
       "    }\n",
       "\n",
       "    .dataframe thead th {\n",
       "        text-align: right;\n",
       "    }\n",
       "</style>\n",
       "<table border=\"1\" class=\"dataframe\">\n",
       "  <thead>\n",
       "    <tr style=\"text-align: right;\">\n",
       "      <th></th>\n",
       "      <th>pokemon</th>\n",
       "      <th>tipo</th>\n",
       "      <th>ataque</th>\n",
       "    </tr>\n",
       "  </thead>\n",
       "  <tbody>\n",
       "    <tr>\n",
       "      <th>0</th>\n",
       "      <td>charmander</td>\n",
       "      <td>fuego</td>\n",
       "      <td>ascuas</td>\n",
       "    </tr>\n",
       "    <tr>\n",
       "      <th>1</th>\n",
       "      <td>evee</td>\n",
       "      <td>normal</td>\n",
       "      <td>placaje</td>\n",
       "    </tr>\n",
       "  </tbody>\n",
       "</table>\n",
       "</div>"
      ],
      "text/plain": [
       "      pokemon    tipo   ataque\n",
       "0  charmander   fuego   ascuas\n",
       "1        evee  normal  placaje"
      ]
     },
     "execution_count": 85,
     "metadata": {},
     "output_type": "execute_result"
    }
   ],
   "source": [
    "pokemon_object = pokemon()\n",
    "#Llamar al método obtener_pokemon en la instancia\n",
    "pokedex_df = pokemon_object.obtener_pokemon()\n",
    "print('Cargando...')\n",
    "time.sleep(1.5)\n",
    "print('--------------------------------')\n",
    "print('ASIGNEMOS ATAQUES A TUS POKEMON')\n",
    "print('--------------------------------')\n",
    "#Asignar ataque\n",
    "pokedex_df = pokemon_object.asignar_ataque()\n",
    "respuesta_mas_ataques = input('¿Quieres asignar más ataques a los Pokémon? (si/no): ')\n",
    "while respuesta_mas_ataques.lower() in ['si','sí']:\n",
    "    pokedex_df = pokemon_object.asignar_ataque()\n",
    "    respuesta_mas_ataques = input('¿Quieres asignar más ataques a los Pokémon? (si/no): ')\n",
    "\n",
    "print('Cargando...')\n",
    "time.sleep(1.5)  \n",
    "print('--------------------------------')\n",
    "print('ASÍ HA QUEDADO TU POKEDEX')\n",
    "print('--------------------------------')\n",
    "pokedex_df\n"
   ]
  },
  {
   "cell_type": "code",
   "execution_count": null,
   "id": "68bacf89-0794-4141-84ca-f51064c85cb7",
   "metadata": {},
   "outputs": [],
   "source": []
  },
  {
   "cell_type": "markdown",
   "id": "c5e8f84b-73e8-4265-ae0d-1c4d3522e1df",
   "metadata": {},
   "source": [
    "EDITAR ATAQUES (NO NECESARIO)"
   ]
  },
  {
   "cell_type": "code",
   "execution_count": 87,
   "id": "b6122d7a-a395-4d8e-882a-cb72842b222e",
   "metadata": {},
   "outputs": [
    {
     "name": "stdin",
     "output_type": "stream",
     "text": [
      "Introduce un pokemon para asignarle un ataque:  g\n",
      "No se encontró el Pokémon g en la Pokedex. ¿Quieres intentarlo de nuevo? (si/no):  si\n",
      "Introduce el nombre del Pokémon:  charmander\n",
      "Introduce el ataque para charmander:  ascuas\n"
     ]
    },
    {
     "name": "stdout",
     "output_type": "stream",
     "text": [
      "Se ha asignado el ataque ascuas a charmander.\n"
     ]
    },
    {
     "name": "stdin",
     "output_type": "stream",
     "text": [
      "¿Quieres asignar más ataques a los Pokémon? (si/no):  no\n"
     ]
    },
    {
     "name": "stdout",
     "output_type": "stream",
     "text": [
      "Cargando...\n",
      "--------------------------------\n",
      "ASÍ HA QUEDADO TU POKEDEX\n",
      "--------------------------------\n",
      "      pokemon           tipo       ataque\n",
      "0  charmander         ascuas       ascuas\n",
      "1    squirtle           agua      burbuja\n",
      "2   bulbasaur  planta/veneno  latigo_cepa\n"
     ]
    },
    {
     "data": {
      "text/html": [
       "<div>\n",
       "<style scoped>\n",
       "    .dataframe tbody tr th:only-of-type {\n",
       "        vertical-align: middle;\n",
       "    }\n",
       "\n",
       "    .dataframe tbody tr th {\n",
       "        vertical-align: top;\n",
       "    }\n",
       "\n",
       "    .dataframe thead th {\n",
       "        text-align: right;\n",
       "    }\n",
       "</style>\n",
       "<table border=\"1\" class=\"dataframe\">\n",
       "  <thead>\n",
       "    <tr style=\"text-align: right;\">\n",
       "      <th></th>\n",
       "      <th>pokemon</th>\n",
       "      <th>tipo</th>\n",
       "      <th>ataque</th>\n",
       "    </tr>\n",
       "  </thead>\n",
       "  <tbody>\n",
       "    <tr>\n",
       "      <th>0</th>\n",
       "      <td>charmander</td>\n",
       "      <td>ascuas</td>\n",
       "      <td>ascuas</td>\n",
       "    </tr>\n",
       "    <tr>\n",
       "      <th>1</th>\n",
       "      <td>squirtle</td>\n",
       "      <td>agua</td>\n",
       "      <td>burbuja</td>\n",
       "    </tr>\n",
       "    <tr>\n",
       "      <th>2</th>\n",
       "      <td>bulbasaur</td>\n",
       "      <td>planta/veneno</td>\n",
       "      <td>latigo_cepa</td>\n",
       "    </tr>\n",
       "  </tbody>\n",
       "</table>\n",
       "</div>"
      ],
      "text/plain": [
       "      pokemon           tipo       ataque\n",
       "0  charmander         ascuas       ascuas\n",
       "1    squirtle           agua      burbuja\n",
       "2   bulbasaur  planta/veneno  latigo_cepa"
      ]
     },
     "execution_count": 87,
     "metadata": {},
     "output_type": "execute_result"
    }
   ],
   "source": [
    "#Editar ataques\n",
    "pokedex_df = pokemon_object.asignar_ataque()\n",
    "respuesta_mas_ataques = input('¿Quieres asignar más ataques a los Pokémon? (si/no): ')\n",
    "while respuesta_mas_ataques.lower() in ['si','sí']:\n",
    "    pokedex_df = pokemon_object.asignar_ataque()\n",
    "    respuesta_mas_ataques = input('¿Quieres asignar más ataques a los Pokémon? (si/no): ')\n",
    "\n",
    "print('Cargando...')\n",
    "time.sleep(1.5)  \n",
    "print('--------------------------------')\n",
    "print('ASÍ HA QUEDADO TU POKEDEX')\n",
    "print('--------------------------------')\n",
    "pokedex_df"
   ]
  },
  {
   "cell_type": "code",
   "execution_count": null,
   "id": "ab94c04b-f3c0-4021-b3d2-3bca595645de",
   "metadata": {},
   "outputs": [],
   "source": []
  },
  {
   "cell_type": "markdown",
   "id": "587fcd00-c640-4ede-8da2-c6cbc584b0e3",
   "metadata": {},
   "source": [
    "AÑADIR POKEMON"
   ]
  },
  {
   "cell_type": "code",
   "execution_count": 74,
   "id": "a08ce75b-4a60-44d8-a4fe-7039ab56dc4c",
   "metadata": {},
   "outputs": [
    {
     "name": "stdin",
     "output_type": "stream",
     "text": [
      "¿Quieres agregar un nuevo registro? (si/no):  no\n"
     ]
    },
    {
     "name": "stdout",
     "output_type": "stream",
     "text": [
      "No se realizaron cambios en la Pokedex.\n",
      "Cargando...\n",
      "--------------------------------\n",
      "ASÍ HA QUEDADO TU POKEDEX\n",
      "--------------------------------\n"
     ]
    },
    {
     "data": {
      "text/html": [
       "<div>\n",
       "<style scoped>\n",
       "    .dataframe tbody tr th:only-of-type {\n",
       "        vertical-align: middle;\n",
       "    }\n",
       "\n",
       "    .dataframe tbody tr th {\n",
       "        vertical-align: top;\n",
       "    }\n",
       "\n",
       "    .dataframe thead th {\n",
       "        text-align: right;\n",
       "    }\n",
       "</style>\n",
       "<table border=\"1\" class=\"dataframe\">\n",
       "  <thead>\n",
       "    <tr style=\"text-align: right;\">\n",
       "      <th></th>\n",
       "      <th>pokemon</th>\n",
       "      <th>tipo</th>\n",
       "      <th>ataque</th>\n",
       "    </tr>\n",
       "  </thead>\n",
       "  <tbody>\n",
       "    <tr>\n",
       "      <th>0</th>\n",
       "      <td>charmander</td>\n",
       "      <td>ascuas</td>\n",
       "      <td>ascuas</td>\n",
       "    </tr>\n",
       "    <tr>\n",
       "      <th>1</th>\n",
       "      <td>squirtle</td>\n",
       "      <td>agua</td>\n",
       "      <td>burbuja</td>\n",
       "    </tr>\n",
       "    <tr>\n",
       "      <th>2</th>\n",
       "      <td>bulbasaur</td>\n",
       "      <td>planta/veneno</td>\n",
       "      <td>latigo_cepa</td>\n",
       "    </tr>\n",
       "  </tbody>\n",
       "</table>\n",
       "</div>"
      ],
      "text/plain": [
       "      pokemon           tipo       ataque\n",
       "0  charmander         ascuas       ascuas\n",
       "1    squirtle           agua      burbuja\n",
       "2   bulbasaur  planta/veneno  latigo_cepa"
      ]
     },
     "execution_count": 74,
     "metadata": {},
     "output_type": "execute_result"
    }
   ],
   "source": [
    "#Añadir pokemon\n",
    "#Crear una instancia de la clase GestorPokedex\n",
    "gestor_pokedex = GestorPokedex(pokemon_object)\n",
    "gestor_pokedex.agregar_registro()\n",
    "dataframe_pokedex=gestor_pokedex.obtener_pokedex()\n",
    "print('Cargando...')\n",
    "time.sleep(1.5)  \n",
    "print('--------------------------------')\n",
    "print('ASÍ HA QUEDADO TU POKEDEX')\n",
    "print('--------------------------------')\n",
    "dataframe_pokedex"
   ]
  },
  {
   "cell_type": "code",
   "execution_count": null,
   "id": "f4a7e204-4de2-4598-bbd3-ce96cf8429b3",
   "metadata": {},
   "outputs": [],
   "source": []
  },
  {
   "cell_type": "markdown",
   "id": "5ffbc927-3996-4598-b725-40f5cb366de7",
   "metadata": {},
   "source": [
    "ELIMINAR POKEMON"
   ]
  },
  {
   "cell_type": "code",
   "execution_count": 64,
   "id": "2164eaa6-4a23-4bd3-9f7d-4386c0c7d413",
   "metadata": {},
   "outputs": [
    {
     "name": "stdin",
     "output_type": "stream",
     "text": [
      "¿Quieres eliminar un nuevo registro? (si/no):  si\n",
      "Indica el nombre del pokemon que quieres eliminar:  pene\n"
     ]
    },
    {
     "name": "stdout",
     "output_type": "stream",
     "text": [
      "Se ha eliminado el registro del Pokémon pene de la pokedex\n"
     ]
    },
    {
     "name": "stdin",
     "output_type": "stream",
     "text": [
      "¿Quieres eliminar otro registro? (si/no):  no\n"
     ]
    },
    {
     "name": "stdout",
     "output_type": "stream",
     "text": [
      "Cargando...\n",
      "--------------------------------\n",
      "ASÍ HA QUEDADO TU POKEDEX\n",
      "--------------------------------\n"
     ]
    },
    {
     "data": {
      "text/html": [
       "<div>\n",
       "<style scoped>\n",
       "    .dataframe tbody tr th:only-of-type {\n",
       "        vertical-align: middle;\n",
       "    }\n",
       "\n",
       "    .dataframe tbody tr th {\n",
       "        vertical-align: top;\n",
       "    }\n",
       "\n",
       "    .dataframe thead th {\n",
       "        text-align: right;\n",
       "    }\n",
       "</style>\n",
       "<table border=\"1\" class=\"dataframe\">\n",
       "  <thead>\n",
       "    <tr style=\"text-align: right;\">\n",
       "      <th></th>\n",
       "      <th>pokemon</th>\n",
       "      <th>tipo</th>\n",
       "      <th>ataque</th>\n",
       "    </tr>\n",
       "  </thead>\n",
       "  <tbody>\n",
       "    <tr>\n",
       "      <th>0</th>\n",
       "      <td>charmander</td>\n",
       "      <td>ascuas</td>\n",
       "      <td>frf</td>\n",
       "    </tr>\n",
       "    <tr>\n",
       "      <th>1</th>\n",
       "      <td>evee</td>\n",
       "      <td>kk</td>\n",
       "      <td>placaje</td>\n",
       "    </tr>\n",
       "  </tbody>\n",
       "</table>\n",
       "</div>"
      ],
      "text/plain": [
       "      pokemon    tipo   ataque\n",
       "0  charmander  ascuas      frf\n",
       "1        evee      kk  placaje"
      ]
     },
     "execution_count": 64,
     "metadata": {},
     "output_type": "execute_result"
    }
   ],
   "source": [
    "#Eliminar pokemon\n",
    "#Crear una instancia de la clase GestorPokedex\n",
    "gestor_pokedex = GestorPokedex(pokemon_object)\n",
    "# Eliminar un registro por nombre de Pokémon\n",
    "gestor_pokedex.eliminar_registro()\n",
    "dataframe_pokedex=gestor_pokedex.obtener_pokedex()\n",
    "print('Cargando...')\n",
    "time.sleep(1.5)  \n",
    "print('--------------------------------')\n",
    "print('ASÍ HA QUEDADO TU POKEDEX')\n",
    "print('--------------------------------')\n",
    "dataframe_pokedex"
   ]
  },
  {
   "cell_type": "code",
   "execution_count": null,
   "id": "b0cc8498-ac38-4655-9f19-2c5c4e4c7eaf",
   "metadata": {},
   "outputs": [],
   "source": []
  },
  {
   "cell_type": "markdown",
   "id": "ea171308-c5e7-49ea-8203-c7858c7c197f",
   "metadata": {},
   "source": [
    "SUBIR POKEDEX A LA BASE DE DATOS"
   ]
  },
  {
   "cell_type": "code",
   "execution_count": 75,
   "id": "18f4d6ec-438f-4dbf-be16-e75e286ba8be",
   "metadata": {},
   "outputs": [],
   "source": [
    "import psycopg2\n",
    "from sqlalchemy import create_engine"
   ]
  },
  {
   "cell_type": "code",
   "execution_count": 77,
   "id": "d7911342-23fe-4ade-a69d-b116863d3f19",
   "metadata": {},
   "outputs": [
    {
     "name": "stdout",
     "output_type": "stream",
     "text": [
      "DataFrame subido a la tabla pokedex_table en la base de datos.\n"
     ]
    }
   ],
   "source": [
    "# Parámetros de conexión a la base de datos\n",
    "DB_HOST = \"postgresql_container\"  # Cambia esto a la dirección IP del contenedor PostgreSQL\n",
    "DB_PORT = \"5432\"\n",
    "DB_NAME = \"mydatabase\"\n",
    "DB_USER = \"myuser\"\n",
    "DB_PASSWORD = \"mypassword\"\n",
    "\n",
    "# Crear la cadena de conexión\n",
    "db_url = f\"postgresql://{DB_USER}:{DB_PASSWORD}@{DB_HOST}:{DB_PORT}/{DB_NAME}\"\n",
    "\n",
    "# Crear un objeto de motor SQLAlchemy\n",
    "engine = create_engine(db_url)\n",
    "\n",
    "# Nombre de la tabla en la base de datos\n",
    "table_name = 'pokedex_table'\n",
    "\n",
    "# Subir el DataFrame a la base de datos\n",
    "dataframe_pokedex.to_sql(table_name, engine, if_exists='replace', index=False)\n",
    "\n",
    "print(f'DataFrame subido a la tabla {table_name} en la base de datos.')"
   ]
  },
  {
   "cell_type": "code",
   "execution_count": null,
   "id": "eabebc2b-e024-43fb-b318-5fdf5cbaf072",
   "metadata": {},
   "outputs": [],
   "source": []
  },
  {
   "cell_type": "markdown",
   "id": "52f53d49-f935-484b-8c0c-44f788a78784",
   "metadata": {},
   "source": [
    "Mejora: Contruir una aplicación que incluya las siguientes funcionalidades:\n",
    "        1. Comenzar Pokedex\n",
    "        2. Editar ataques\n",
    "        3. Añadir Pokemon\n",
    "        4. Eliminar Pokemon\n",
    "        5. Pokedex final en webserver"
   ]
  },
  {
   "cell_type": "code",
   "execution_count": null,
   "id": "660189f2-5443-473d-b726-a8623b935974",
   "metadata": {},
   "outputs": [],
   "source": []
  }
 ],
 "metadata": {
  "kernelspec": {
   "display_name": "Python 3",
   "language": "python",
   "name": "python3"
  },
  "language_info": {
   "codemirror_mode": {
    "name": "ipython",
    "version": 3
   },
   "file_extension": ".py",
   "mimetype": "text/x-python",
   "name": "python",
   "nbconvert_exporter": "python",
   "pygments_lexer": "ipython3",
   "version": "3.8.8"
  }
 },
 "nbformat": 4,
 "nbformat_minor": 5
}
