{
 "cells": [
  {
   "cell_type": "markdown",
   "id": "69258620-4a75-40df-8c37-54ef285bac83",
   "metadata": {},
   "source": [
    "MODULOS"
   ]
  },
  {
   "cell_type": "code",
   "execution_count": 1,
   "id": "8866f388-6588-4786-bc10-8efce5fa2a03",
   "metadata": {},
   "outputs": [],
   "source": [
    "# Para convertir un notebook (ipynb) en un archivo python (py) utilizar el siguiente comando: jupyter nbconvert --to script notebook.ipynb"
   ]
  },
  {
   "cell_type": "code",
   "execution_count": 4,
   "id": "31e9ae85-0eef-487d-9768-5391e4f50fa6",
   "metadata": {},
   "outputs": [],
   "source": [
    "import mis_modulos"
   ]
  },
  {
   "cell_type": "code",
   "execution_count": 5,
   "id": "206a0f99-0522-4073-a9db-eafbbb636743",
   "metadata": {},
   "outputs": [
    {
     "name": "stdout",
     "output_type": "stream",
     "text": [
      "Hola, me llamo Samuel Marcos\n"
     ]
    }
   ],
   "source": [
    "nombre=mis_modulos.saludo('Samuel','Marcos')\n",
    "nombre"
   ]
  },
  {
   "cell_type": "markdown",
   "id": "a4a63648-ea56-43dd-ac6b-bbf8c987a3e9",
   "metadata": {},
   "source": [
    "PAQUETES"
   ]
  },
  {
   "cell_type": "code",
   "execution_count": 6,
   "id": "4b6f64ae-1299-47c8-a0ed-11acb107e4fb",
   "metadata": {},
   "outputs": [],
   "source": [
    "#Es una carpeta que contiene varios modulos dentro\n",
    "#Se recomienda incluir __init__.py dentro de la carpeta"
   ]
  },
  {
   "cell_type": "markdown",
   "id": "8c88476a-4e55-4620-ae75-15b5a9cbbfa9",
   "metadata": {},
   "source": [
    "PROGRAMACION ORIENTADA A OBJETOS (OOB)"
   ]
  },
  {
   "cell_type": "markdown",
   "id": "22f0e7c5-9f11-4d77-911d-30741d67b345",
   "metadata": {},
   "source": [
    "clases y objetos"
   ]
  },
  {
   "cell_type": "code",
   "execution_count": 115,
   "id": "0f7f8e9b-22b4-4240-9273-948fe42a6f9c",
   "metadata": {},
   "outputs": [
    {
     "name": "stdout",
     "output_type": "stream",
     "text": [
      "Mercedes\n",
      "2005\n",
      "34564-TF\n"
     ]
    }
   ],
   "source": [
    "class coche:\n",
    "    marca=\"Mercedes\"\n",
    "    modelo=2005\n",
    "    placa=\"34564-TF\"\n",
    "\n",
    "taxi=coche() # se crea un objeto\n",
    "print(f\"{taxi.marca}\\n{taxi.modelo}\\n{taxi.placa}\")"
   ]
  },
  {
   "cell_type": "code",
   "execution_count": 39,
   "id": "af829245-6418-423a-9399-688af3bf3563",
   "metadata": {},
   "outputs": [
    {
     "name": "stdout",
     "output_type": "stream",
     "text": [
      "Messi\n",
      "C.Ronaldo\n"
     ]
    }
   ],
   "source": [
    "class jugadores:\n",
    "    j1=\"Messi\"\n",
    "    j2=\"C.Ronaldo\"\n",
    "\n",
    "print(f\"{jugadores.j1}\\n{jugadores.j2}\")"
   ]
  },
  {
   "cell_type": "code",
   "execution_count": 40,
   "id": "c81d1fe8-00f7-4389-a8c9-fc65d1ce86bb",
   "metadata": {},
   "outputs": [
    {
     "name": "stdout",
     "output_type": "stream",
     "text": [
      "M.Lahoz\n",
      "U.Mallenco\n"
     ]
    }
   ],
   "source": [
    "class arbitros:\n",
    "    ar1=\"M.Lahoz\"\n",
    "    ar2=\"U.Mallenco\"\n",
    "print(f\"{arbitros.ar1}\\n{arbitros.ar2}\")"
   ]
  },
  {
   "cell_type": "code",
   "execution_count": 46,
   "id": "541d0fe0-d4a2-40ee-a1d6-21345a448318",
   "metadata": {},
   "outputs": [
    {
     "data": {
      "text/plain": [
       "'Real Madrid'"
      ]
     },
     "execution_count": 46,
     "metadata": {},
     "output_type": "execute_result"
    }
   ],
   "source": [
    "class equipo:\n",
    "    e1=\"Real Madrid\"\n",
    "    e2=\"Barcelona\"\n",
    "equipo.e1"
   ]
  },
  {
   "cell_type": "code",
   "execution_count": 47,
   "id": "6008df67-eb61-4f53-b211-a70ec42f51b4",
   "metadata": {},
   "outputs": [],
   "source": [
    "class nombre:\n",
    "    pass"
   ]
  },
  {
   "cell_type": "code",
   "execution_count": 48,
   "id": "b4781d1d-92fe-44a1-81f5-e474b2acd0d6",
   "metadata": {},
   "outputs": [],
   "source": [
    "samuel=nombre()\n",
    "gane=nombre()"
   ]
  },
  {
   "cell_type": "code",
   "execution_count": 49,
   "id": "31cb6511-048f-4bdf-a79d-110d07c51907",
   "metadata": {},
   "outputs": [],
   "source": [
    "samuel.edad=25\n",
    "gane.edad=25"
   ]
  },
  {
   "cell_type": "code",
   "execution_count": 52,
   "id": "8796823a-cbc6-45d3-842b-626b16dd1740",
   "metadata": {},
   "outputs": [],
   "source": [
    "samuel.sexo=\"hombre\"\n",
    "gane.sexo=\"mujer\""
   ]
  },
  {
   "cell_type": "code",
   "execution_count": 54,
   "id": "d7959f8c-8e51-403e-b228-5083644165d6",
   "metadata": {},
   "outputs": [
    {
     "name": "stdout",
     "output_type": "stream",
     "text": [
      "25\n",
      "hombre\n"
     ]
    }
   ],
   "source": [
    "print(str(samuel.edad) +\"\\n\" + samuel.sexo)"
   ]
  },
  {
   "cell_type": "markdown",
   "id": "24a3e3c0-5082-47c0-b88a-735e7f1c8d63",
   "metadata": {},
   "source": [
    "metodos"
   ]
  },
  {
   "cell_type": "code",
   "execution_count": 74,
   "id": "49542a05-e9ce-469a-a1d3-a086ff1d7630",
   "metadata": {},
   "outputs": [
    {
     "name": "stdout",
     "output_type": "stream",
     "text": [
      "5\n"
     ]
    }
   ],
   "source": [
    "class matematicas:\n",
    "    def suma(self):\n",
    "        self.numero1 = 2\n",
    "        self.numero2 = 3\n",
    "        \n",
    "s=matematicas()\n",
    "s.suma()\n",
    "print(s.numero1 + s.numero2)"
   ]
  },
  {
   "cell_type": "code",
   "execution_count": 81,
   "id": "772aa974-75fb-4b30-b628-f18f00faf5ec",
   "metadata": {},
   "outputs": [],
   "source": [
    "#recomendado usar directamente el init a continuacion"
   ]
  },
  {
   "cell_type": "code",
   "execution_count": 117,
   "id": "c3b78bd6-973c-4455-9871-39da36a388af",
   "metadata": {},
   "outputs": [
    {
     "name": "stdout",
     "output_type": "stream",
     "text": [
      "nike\n",
      "negro\n",
      "M\n"
     ]
    }
   ],
   "source": [
    "class ropa:\n",
    "    def __init__(self):\n",
    "        self.marca='nike'\n",
    "        self.talla='M'\n",
    "        self.color='negro'\n",
    "        \n",
    "camiseta=ropa()\n",
    "\n",
    "print(f\"{camiseta.marca}\\n{camiseta.color}\\n{camiseta.talla}\")"
   ]
  },
  {
   "cell_type": "code",
   "execution_count": 116,
   "id": "65e05eb6-264d-4b33-8704-891777339f5e",
   "metadata": {},
   "outputs": [
    {
     "name": "stdout",
     "output_type": "stream",
     "text": [
      "4\n",
      "2\n",
      "3\n",
      "3.0\n"
     ]
    }
   ],
   "source": [
    "class calculadora:\n",
    "    def __init__(self,n1,n2):\n",
    "        self.suma = n1 + n2\n",
    "        self.resta = n1 - n2\n",
    "        self.multiplicacion = n1 * n2\n",
    "        self.division = n1 / n2\n",
    "        \n",
    "c=calculadora(3,1)\n",
    "\n",
    "print(f\"{c.suma}\\n{c.resta}\\n{c.multiplicacion}\\n{c.division}\")\n",
    "        "
   ]
  },
  {
   "cell_type": "markdown",
   "id": "ee881e21-1b65-43c3-9fb9-c80e05b5161e",
   "metadata": {},
   "source": [
    "funciones para atributos"
   ]
  },
  {
   "cell_type": "code",
   "execution_count": 93,
   "id": "8c407b89-c1a5-4b11-ab70-143c3cadb894",
   "metadata": {},
   "outputs": [
    {
     "name": "stdout",
     "output_type": "stream",
     "text": [
      "samuel\n",
      "25\n"
     ]
    }
   ],
   "source": [
    "class persona:\n",
    "    edad=25\n",
    "    nombre='samuel'\n",
    "    \n",
    "    \n",
    "doctor=persona()\n",
    "\n",
    "print(f\"{doctor.nombre}\\n{doctor.edad}\")"
   ]
  },
  {
   "cell_type": "code",
   "execution_count": 95,
   "id": "b099fddb-7069-43af-a15d-516024b9dd73",
   "metadata": {},
   "outputs": [],
   "source": [
    "#ahora implementamos funciones para los atributos"
   ]
  },
  {
   "cell_type": "code",
   "execution_count": 97,
   "id": "9532115b-b50f-4d92-a1dc-db9cd73e7453",
   "metadata": {},
   "outputs": [
    {
     "name": "stdout",
     "output_type": "stream",
     "text": [
      "la edad es 25\n"
     ]
    }
   ],
   "source": [
    "print(\"la edad es {}\".format(doctor.edad))"
   ]
  },
  {
   "cell_type": "code",
   "execution_count": 98,
   "id": "38088dba-56f0-43e8-872d-61a53bf5e5df",
   "metadata": {},
   "outputs": [
    {
     "name": "stdout",
     "output_type": "stream",
     "text": [
      "la edad es 25\n"
     ]
    }
   ],
   "source": [
    "print(\"la edad es {}\".format(getattr(doctor,'edad')))"
   ]
  },
  {
   "cell_type": "code",
   "execution_count": 114,
   "id": "b8a5e09a-8148-4606-936e-dea032464e96",
   "metadata": {},
   "outputs": [
    {
     "name": "stdout",
     "output_type": "stream",
     "text": [
      "La edad de la persona es: 25\n",
      "La altura de la persona es: No especificada\n"
     ]
    }
   ],
   "source": [
    "#Caso de uso para el getattr. Se accede al valor del atributo pero podemos ponerle un valor en caso de que no exista\n",
    "\n",
    "class Persona:\n",
    "    def __init__(self, nombre, edad):\n",
    "        self.nombre = nombre\n",
    "        self.edad = edad\n",
    "\n",
    "# Crear una instancia de Persona\n",
    "persona = Persona(\"Juan\", 25)\n",
    "\n",
    "# Intentar obtener un atributo que no existe con getattr y proporcionar un valor predeterminado\n",
    "persona2 = getattr(persona, 'edad', 'No especificada') #el atributo edad si existe\n",
    "\n",
    "persona3 = getattr(persona, 'altura', 'No especificada') #el atributo altura no existe\n",
    "\n",
    "# Imprimir el resultado\n",
    "print(\"La edad de la persona es: {}\".format(persona2))\n",
    "print(\"La altura de la persona es: {}\".format(persona3))"
   ]
  },
  {
   "cell_type": "code",
   "execution_count": 124,
   "id": "5607d35c-7b0a-4b52-a72e-2f288c9138f7",
   "metadata": {},
   "outputs": [
    {
     "name": "stdout",
     "output_type": "stream",
     "text": [
      "¿Tiene nombre el ingeniero? True\n",
      "¿Tiene edad el ingenierio? True\n",
      "¿Tiene altura el ingeniero? False\n"
     ]
    }
   ],
   "source": [
    "#Caso de uso para el getattr. Devuelve True o False dependiendo de si el atributo existe o no\n",
    "class persona:\n",
    "    def __init__(self):\n",
    "        self.nombre='samuel'\n",
    "        self.edad=25\n",
    "        \n",
    "ingeniero=persona()\n",
    "\n",
    "print('¿Tiene nombre el ingeniero?',hasattr(ingeniero,'nombre'))\n",
    "print('¿Tiene edad el ingenierio?',hasattr(ingeniero,'edad'))\n",
    "\n",
    "print('¿Tiene altura el ingeniero?',hasattr(ingeniero,'altura')) #Devuelve False porque no existe el atributo altura"
   ]
  },
  {
   "cell_type": "code",
   "execution_count": 130,
   "id": "6febc678-a111-4ee0-a908-83c6288e8cfd",
   "metadata": {},
   "outputs": [
    {
     "name": "stdout",
     "output_type": "stream",
     "text": [
      "El nombre del medico es: samuel\n",
      "El nombre del medico es: ulises\n"
     ]
    }
   ],
   "source": [
    "#Caso de uso para el setattr. Cambiar el valor de un atributo\n",
    "class persona:\n",
    "    def __init__(self):\n",
    "        self.nombre='samuel'\n",
    "        self.edad=25\n",
    "        \n",
    "medico=persona()\n",
    "\n",
    "print('El nombre del medico es:',medico.nombre)\n",
    "\n",
    "setattr(medico,'nombre','ulises') #Cambiamos el valor de nombre para el objeto medico\n",
    "\n",
    "print('El nombre del medico es:',medico.nombre)"
   ]
  },
  {
   "cell_type": "code",
   "execution_count": 142,
   "id": "b19f2662-e206-4f7f-9821-85dfb738e85a",
   "metadata": {},
   "outputs": [
    {
     "name": "stdout",
     "output_type": "stream",
     "text": [
      "El pais es: españa y la ciudad es: sc de tenerife\n"
     ]
    },
    {
     "ename": "AttributeError",
     "evalue": "'persona' object has no attribute 'pais'",
     "output_type": "error",
     "traceback": [
      "\u001b[0;31m---------------------------------------------------------------------------\u001b[0m",
      "\u001b[0;31mAttributeError\u001b[0m                            Traceback (most recent call last)",
      "\u001b[0;32m<ipython-input-142-abab6f6c85c6>\u001b[0m in \u001b[0;36m<module>\u001b[0;34m\u001b[0m\n\u001b[1;32m     13\u001b[0m \u001b[0mdelattr\u001b[0m\u001b[0;34m(\u001b[0m\u001b[0mresidencia\u001b[0m\u001b[0;34m,\u001b[0m\u001b[0;34m'pais'\u001b[0m\u001b[0;34m)\u001b[0m \u001b[0;31m#Como primer argumento ponemos el nombre del atributo o del objeto dependiendo de donde lo queremos eliminar\u001b[0m\u001b[0;34m\u001b[0m\u001b[0;34m\u001b[0m\u001b[0m\n\u001b[1;32m     14\u001b[0m \u001b[0;34m\u001b[0m\u001b[0m\n\u001b[0;32m---> 15\u001b[0;31m \u001b[0mprint\u001b[0m\u001b[0;34m(\u001b[0m\u001b[0;34m'El pais es: {} y la ciudad es: {}'\u001b[0m\u001b[0;34m.\u001b[0m\u001b[0mformat\u001b[0m\u001b[0;34m(\u001b[0m\u001b[0mresidencia\u001b[0m\u001b[0;34m.\u001b[0m\u001b[0mpais\u001b[0m\u001b[0;34m,\u001b[0m\u001b[0mresidencia\u001b[0m\u001b[0;34m.\u001b[0m\u001b[0mciudad\u001b[0m\u001b[0;34m)\u001b[0m\u001b[0;34m)\u001b[0m \u001b[0;31m#Da error porque se ha eliminado correctamente\u001b[0m\u001b[0;34m\u001b[0m\u001b[0;34m\u001b[0m\u001b[0m\n\u001b[0m",
      "\u001b[0;31mAttributeError\u001b[0m: 'persona' object has no attribute 'pais'"
     ]
    }
   ],
   "source": [
    "#Caso de uso para el delattr\n",
    "\n",
    "class persona:\n",
    "    def __init__(self):\n",
    "        self.pais='españa'\n",
    "        self.ciudad='sc de tenerife'\n",
    "        \n",
    "residencia=persona()\n",
    "residencia1=persona()\n",
    "\n",
    "print('El pais es: {} y la ciudad es: {}'.format(residencia.pais,residencia.ciudad))\n",
    "\n",
    "delattr(residencia,'pais') #Como primer argumento ponemos el nombre del atributo o del objeto dependiendo de donde lo queremos eliminar\n",
    "\n",
    "print('El pais es: {} y la ciudad es: {}'.format(residencia.pais,residencia.ciudad)) #Da error porque se ha eliminado correctamente"
   ]
  },
  {
   "cell_type": "markdown",
   "id": "374218b4-90b6-4008-9326-052f26ce47c2",
   "metadata": {},
   "source": [
    "Resumen de funciones dentro de las clases\n",
    "\n",
    "getattr: persona2 = getattr(persona, 'edad', 'No especificada') Se accede al valor del atributo pero podemos ponerle un valor en caso de que no exista\n",
    "\n",
    "\n",
    "hasattr: print('¿Tiene nombre el ingeniero?',hasattr(ingeniero,'nombre')) Devuelve True o False dependiendo de si el atributo existe o no\n",
    "\n",
    "\n",
    "setattr: setattr(medico,'nombre','ulises') Cambiamos el valor del atributo nombre para el objeto medico\n",
    "\n",
    "\n",
    "delattr: delattr(residencia,'pais') Como primer argumento ponemos el nombre del atributo o del objeto dependiendo de donde lo queremos eliminar, si del objeto solamente o de la clase en general"
   ]
  },
  {
   "cell_type": "markdown",
   "id": "efa0783e-fe57-4d5a-a3e7-6bc431239943",
   "metadata": {},
   "source": [
    "Constructores"
   ]
  },
  {
   "cell_type": "code",
   "execution_count": 163,
   "id": "57a81c99-fdac-4ecd-a3e0-c587ea04a0a6",
   "metadata": {},
   "outputs": [
    {
     "name": "stdout",
     "output_type": "stream",
     "text": [
      "Me llamo samuel marcos y tengo 25 años\n",
      "samuel dice: me gustan las papas\n"
     ]
    }
   ],
   "source": [
    "class persona:\n",
    "    pass #Si en vez de poner directamente los metodos queremos ponerlos como funciones (constructores) deberemos de establecer un pass\n",
    "    def __init__(self,nombre,apellido,edad):\n",
    "        self.nombre=nombre\n",
    "        self.apellido=apellido\n",
    "        self.edad=edad\n",
    "        \n",
    "    def desripcion(self):\n",
    "        return 'Me llamo {} {} y tengo {} años'.format(hombre.nombre,hombre.apellido,hombre.edad)\n",
    "    \n",
    "    def comentario(self,frase):\n",
    "        return '{} dice: {}'.format(self.nombre,frase)\n",
    " \n",
    "        \n",
    "hombre=persona('samuel','marcos',25)\n",
    "\n",
    "print(hombre.desripcion()) #llamamos al objeto y luego al constructor\n",
    "print(hombre.comentario('me gustan las papas'))\n"
   ]
  },
  {
   "cell_type": "markdown",
   "id": "912366d2-d9dc-410c-8c2d-59bbed1b617e",
   "metadata": {},
   "source": [
    "Modificar un atributo"
   ]
  },
  {
   "cell_type": "code",
   "execution_count": 230,
   "id": "c2520880-bb93-4bf3-bf91-2e2f7fb50226",
   "metadata": {},
   "outputs": [
    {
     "name": "stdout",
     "output_type": "stream",
     "text": [
      "El alumno samuel tiene una calificacion de 10\n",
      "El alumno gane   tiene una calificacion de 5\n",
      "El alumno guille tiene una calificacion de 8\n"
     ]
    }
   ],
   "source": [
    "class alumno: #clase\n",
    "    pass\n",
    "    \n",
    "    def __init__(self,nombre,nota): #constructor\n",
    "        self.nombre=nombre #atributos\n",
    "        self.nota=nota\n",
    "\n",
    "    def calificacion(self): #metodo\n",
    "        return 'El alumno {} tiene una calificacion de {}'.format(persona.nombre.ljust(6),persona.nota)\n",
    "lista_notas=[5,10,8]\n",
    "lista_nombres=['samuel','gane','guille']\n",
    "for nombre,nota in zip(lista_nombres,lista_notas):\n",
    "    if nombre=='samuel':\n",
    "        nota=10\n",
    "    elif nombre=='gane':\n",
    "        nota=5\n",
    "    elif nombre=='guille':\n",
    "        nota=8\n",
    "    persona=alumno(nombre,nota) #objeto\n",
    "    print(persona.calificacion())\n"
   ]
  },
  {
   "cell_type": "code",
   "execution_count": 228,
   "id": "762d8452-fa29-413a-8381-10602b104abe",
   "metadata": {},
   "outputs": [
    {
     "name": "stdout",
     "output_type": "stream",
     "text": [
      "samuel\n",
      "El alumno ulises tiene una calificacion de 7\n"
     ]
    }
   ],
   "source": [
    "#En este caso si llamo a persona.nombre me da el primer self.nombre que es el del constructor, pero si especifico el método calificacion me da el self.nombre de ese método\n",
    "class alumno: #clase\n",
    "    pass\n",
    "    \n",
    "    def __init__(self,nota): #constructor\n",
    "        self.nombre='samuel' #atributos\n",
    "        self.nota=nota\n",
    "\n",
    "    def calificacion(self): #metodo\n",
    "        self.nombre='ulises'\n",
    "        return 'El alumno {} tiene una calificacion de {}'.format(self.nombre.ljust(6),self.nota)\n",
    "        \n",
    "persona=alumno(7) #objeto\n",
    "print(persona.nombre)\n",
    "print(persona.calificacion())"
   ]
  },
  {
   "cell_type": "markdown",
   "id": "78a24b53-b3f5-445f-aa8e-152a7944fff0",
   "metadata": {},
   "source": [
    "Herencia"
   ]
  },
  {
   "cell_type": "code",
   "execution_count": 235,
   "id": "d442f482-9ef1-420d-93fc-3b4dc0903412",
   "metadata": {},
   "outputs": [
    {
     "name": "stdout",
     "output_type": "stream",
     "text": [
      "EL pokemon samuelito es de tipo electrico\n",
      "El pokemon samuelito tiene el ataque impactrueno\n",
      "EL pokemon ganesha es de tipo fuego\n",
      "El pokemon ganesha tiene el ataque lanzallamas\n"
     ]
    }
   ],
   "source": [
    "class pokemon:\n",
    "    pass\n",
    "    def __init__(self,nombre,tipo):\n",
    "        self.nombre=nombre\n",
    "        self.tipo=tipo\n",
    "    def descripcion(self):\n",
    "        return 'EL pokemon {} es de tipo {}'.format(self.nombre,self.tipo)\n",
    "\n",
    "class pikachu(pokemon):\n",
    "    def ataque(self,tipo_ataque):\n",
    "        return 'El pokemon {} tiene el ataque {}'.format(self.nombre, tipo_ataque)\n",
    "    \n",
    "class charmander(pokemon):\n",
    "     def ataque(self,tipo_ataque):\n",
    "        return 'El pokemon {} tiene el ataque {}'.format(self.nombre, tipo_ataque)\n",
    "    \n",
    "nuevo_pokemon=pikachu('samuelito','electrico') #Pimer parametro es el nombre de la clase padre. Se le añade los atributos de la clase padre como parametros, nombre y tipo.\n",
    "print(nuevo_pokemon.descripcion()) #Imprimimos el metodo descripcion\n",
    "\n",
    "print(nuevo_pokemon.ataque('impactrueno'))\n",
    "\n",
    "\n",
    "nuevo_pokemon1=charmander('ganesha','fuego')\n",
    "print(nuevo_pokemon1.descripcion())\n",
    "print(nuevo_pokemon1.ataque('lanzallamas'))\n",
    "    "
   ]
  },
  {
   "cell_type": "code",
   "execution_count": 279,
   "id": "f6399c4a-68a7-44ad-a054-6cdab6bb958a",
   "metadata": {},
   "outputs": [
    {
     "name": "stdout",
     "output_type": "stream",
     "text": [
      "Ingresa datos 1 =  4\n",
      "Ingresa datos 2 =  2\n",
      "Ingresa datos 3 =  1\n",
      "None\n",
      "La suma de 4 + 2 + 1 da: 7\n",
      "None\n",
      "La resta de 4 - 2 - 1 da: 1 \n",
      "None\n",
      "Ingresa datos 1 =  9\n",
      "None\n",
      "La raiz de 9 es: 3.0\n",
      "None\n"
     ]
    }
   ],
   "source": [
    "#clase padre\n",
    "\n",
    "class calculadora:\n",
    "    def __init__(self,numeros):\n",
    "        self.n=numeros\n",
    "        \n",
    "    def ingresardato(self):\n",
    "        self.datos=[int(input('Ingresa datos '+str(i+1) + ' = ')) for i in range(self.n)]   \n",
    "        \n",
    "#clase hijo 1        \n",
    "        \n",
    "class op_basicas(calculadora):\n",
    "    def __init__(self):\n",
    "        calculadora.__init__(self,3) #elijo 3 numeros para mis operaciones basicas, es decir estoy llamando al constructor de la clase padre y le estoy asignando los parametros\n",
    "        \n",
    "    def suma(self):\n",
    "        a,b,c=self.datos\n",
    "        s=a + b + c\n",
    "        print('La suma de {} + {} + {} da: {}'.format(a,b,c,s))\n",
    "    \n",
    "    \n",
    "    def resta(self):\n",
    "        a,b,c=self.datos\n",
    "        r=a - b -c\n",
    "        print('La resta de {} - {} - {} da: {} '.format(a,b,c,r))\n",
    "\n",
    "#clase hijo 2\n",
    "    \n",
    "class raiz(calculadora):\n",
    "    def __init__(self):\n",
    "        calculadora.__init__(self,1) #elijo un numero para la raiz cuadrada\n",
    "    def raiz_cuadrada(self):\n",
    "        import math\n",
    "        a,=self.datos\n",
    "        print('La raiz de {} es: {}'.format(a,math.sqrt(a)))\n",
    "        \n",
    "ejemplo=op_basicas()\n",
    "print(ejemplo.ingresardato())\n",
    "print(ejemplo.suma())\n",
    "print(ejemplo.resta())\n",
    "ejemplo1=raiz()\n",
    "print(ejemplo1.ingresardato())\n",
    "print(ejemplo1.raiz_cuadrada())"
   ]
  },
  {
   "cell_type": "code",
   "execution_count": null,
   "id": "8ea215a1-462e-4bc3-b08d-6817e7021ea5",
   "metadata": {},
   "outputs": [],
   "source": []
  },
  {
   "cell_type": "code",
   "execution_count": null,
   "id": "f00fe278-4960-4c15-8ff2-d4481126fed8",
   "metadata": {},
   "outputs": [],
   "source": []
  },
  {
   "cell_type": "code",
   "execution_count": null,
   "id": "30927f52-024d-42cb-abb2-419aa3c4a8e9",
   "metadata": {},
   "outputs": [],
   "source": []
  },
  {
   "cell_type": "code",
   "execution_count": null,
   "id": "1033b647-3419-475d-ae88-c9ab75891979",
   "metadata": {},
   "outputs": [],
   "source": []
  },
  {
   "cell_type": "markdown",
   "id": "45945530-12b1-43aa-9d6a-cb4d565ca700",
   "metadata": {},
   "source": [
    "CREAR DATAFRAME ORIGINAL CON | POKEMON | TIPO | ATAQUE |"
   ]
  },
  {
   "cell_type": "code",
   "execution_count": 4,
   "id": "4b918f8a-90e4-45a3-9caf-766cb1e43631",
   "metadata": {},
   "outputs": [
    {
     "name": "stdout",
     "output_type": "stream",
     "text": [
      "Introduce el nombre del pokemon 1:  pikachu\n",
      "Introduce el tipo del pokemon pikachu:  electrico\n",
      "Introduce el nombre del pokemon 2:  charmander\n",
      "Introduce el tipo del pokemon charmander:  fuego\n",
      "Introduce el nombre del pokemon 3:  evee\n",
      "Introduce el tipo del pokemon evee:  normal\n"
     ]
    }
   ],
   "source": [
    "import pandas as pd\n",
    "\n",
    "class pokedex:\n",
    "    def __init__(self, numero):\n",
    "        self.n = numero\n",
    "        self.lista_pokemon = []\n",
    "        self.lista_tipo = []\n",
    "        #self.lista_ataque = ['NULL' for _ in range(self.n)]\n",
    "\n",
    "class pokemon(pokedex):\n",
    "    def __init__(self):\n",
    "        pokedex.__init__(self,3)\n",
    "        self.pokemon_ataque = None\n",
    "\n",
    "    def obtener_pokemon(self):\n",
    "        for i in range(self.n):\n",
    "            nombre = input(f'Introduce el nombre del pokemon {i+1}: ')\n",
    "            self.lista_pokemon.append(nombre)\n",
    "            tipo = input(f'Introduce el tipo del pokemon {nombre}: ')\n",
    "            self.lista_tipo.append(tipo)\n",
    "        self.pokedex_df = pd.DataFrame({'pokemon': self.lista_pokemon, 'tipo': self.lista_tipo})\n",
    "        return self.pokedex_df\n",
    "    \n",
    "    def asignar_ataque(self):\n",
    "        self.pokemon_ataque=input('Introduce un pokemon para asignarle un ataque: ')\n",
    "        \n",
    "        if self.pokemon_ataque in self.pokedex_df['pokemon'].tolist():\n",
    "            index = self.pokedex_df['pokemon'].tolist().index(self.pokemon_ataque)\n",
    "            ataque = input(f'Introduce el ataque para {self.pokemon_ataque}: ')\n",
    "        \n",
    "            # Asignar el ataque en el DataFrame\n",
    "            self.pokedex_df.at[index, 'ataque'] = ataque\n",
    "        \n",
    "            print(f'Se ha asignado el ataque {ataque} a {self.pokemon_ataque}.')\n",
    "        else:\n",
    "            print(f'No se encontró el Pokémon {self.pokemon_ataque} en la Pokedex.')\n",
    "\n",
    "        return self.pokedex_df\n",
    "\n",
    "\n",
    "# Crear una instancia de la clase pokemon\n",
    "pokemon_object = pokemon()\n",
    "\n",
    "# Llamar al método obtener_pokemon en la instancia\n",
    "pokedex_df = pokemon_object.obtener_pokemon()\n",
    "        "
   ]
  },
  {
   "cell_type": "code",
   "execution_count": 5,
   "id": "9113b3e1-51ad-40a9-bffe-e8fa0239e52e",
   "metadata": {},
   "outputs": [
    {
     "name": "stdout",
     "output_type": "stream",
     "text": [
      "      pokemon       tipo\n",
      "0     pikachu  electrico\n",
      "1  charmander      fuego\n",
      "2        evee     normal\n"
     ]
    }
   ],
   "source": [
    "print(pokedex_df)"
   ]
  },
  {
   "cell_type": "markdown",
   "id": "2e47bca3-375e-454f-a111-a0335a1da7de",
   "metadata": {},
   "source": [
    "ASIGNAR / CAMBIAR ATAQUES"
   ]
  },
  {
   "cell_type": "code",
   "execution_count": 9,
   "id": "bca4bc8e-86c9-4c6c-bd7f-9c09a3dcd792",
   "metadata": {},
   "outputs": [
    {
     "name": "stdout",
     "output_type": "stream",
     "text": [
      "Introduce un pokemon para asignarle un ataque:  evee\n",
      "Introduce el ataque para evee:  placaje\n",
      "Se ha asignado el ataque placaje a evee.\n",
      "      pokemon       tipo       ataque\n",
      "0     pikachu  electrico  impactrueno\n",
      "1  charmander      fuego       ascuas\n",
      "2        evee     normal      placaje\n"
     ]
    }
   ],
   "source": [
    "# Llamar al método asignar_ataque en la instancia\n",
    "pokedex_df = pokemon_object.asignar_ataque()\n",
    "\n",
    "# Imprimir o trabajar con pokedex_df en otras celdas\n",
    "print(pokedex_df)"
   ]
  },
  {
   "cell_type": "code",
   "execution_count": null,
   "id": "48b40666-9ec1-497b-b256-a1288162e86b",
   "metadata": {},
   "outputs": [],
   "source": []
  },
  {
   "cell_type": "markdown",
   "id": "01d8af10-3851-4b89-9733-4a3c39e4dc07",
   "metadata": {},
   "source": [
    "AÑADIR ELIMINAR REGISTROS"
   ]
  },
  {
   "cell_type": "code",
   "execution_count": 10,
   "id": "8fd487cf-89b5-4cca-8b78-f46d0c3e2b25",
   "metadata": {},
   "outputs": [],
   "source": [
    "class GestorPokedex:\n",
    "    def __init__(self, pokedex):\n",
    "        self.pokedex = pokedex\n",
    "\n",
    "    def agregar_registro(self):\n",
    "        self.nuevo_registro=input('¿Quieres agregar un nuevo registro?: ')\n",
    "        if self.nuevo_registro.lower() in ['si', 'sí']:\n",
    "            self.nuevo_pokemon=input('Introduce el nombre del nuevo pokemon: ')\n",
    "            self.nuevo_tipo=input(f'Introuce el tipo del pokemon {self.nuevo_pokemon}: ')\n",
    "            self.nuevo_ataque=input(f'Introduce un ataque para el pokemon {self.nuevo_pokemon}: ')\n",
    "\n",
    "            nueva_fila = {'pokemon': self.nuevo_pokemon, 'tipo': self.nuevo_tipo, 'ataque': self.nuevo_ataque}\n",
    "            self.pokedex.pokedex_df = self.pokedex.pokedex_df.append(nueva_fila, ignore_index=True)\n",
    "            \n",
    "        elif self.nuevo_registro.lower() in ['no','']:\n",
    "            pass\n",
    "    \n",
    "    def eliminar_registro(self):\n",
    "        self.nuevo_registro=input('¿Quieres eliminar un nuevo registro?: ')\n",
    "        if self.nuevo_registro.lower() in ['si', 'sí']:\n",
    "            self.eliminar_pokemon=input('Indica el nombre del pokemon que quieres eliminar: ')\n",
    "            \n",
    "            if self.eliminar_pokemon in self.pokedex.pokedex_df['pokemon'].tolist():\n",
    "                if self.pokedex.pokedex_df['pokemon'].duplicated(keep='first').any():\n",
    "                    self.pokedex.pokedex_df = self.pokedex.pokedex_df[~self.pokedex.pokedex_df.duplicated(subset='pokemon', keep='first')]\n",
    "                    print(f'Se eliminaron duplicados en la Pokedex.')\n",
    "                else:\n",
    "                    self.pokedex.pokedex_df[self.pokedex.pokedex_df['pokemon'] != self.eliminar_pokemon]\n",
    "                    print(f'Se ha eliminado el registro del Pokémon {self.eliminar_pokemon}.')\n",
    "            else:\n",
    "                print(f'No se encontró el Pokémon {self.eliminar_pokemon} en la Pokedex.')\n",
    "        else:\n",
    "            print('No se realizaron cambios en la Pokedex.')\n",
    "\n",
    "    \n",
    "    def obtener_pokedex(self):\n",
    "        return self.pokedex.pokedex_df"
   ]
  },
  {
   "cell_type": "markdown",
   "id": "5fd6a4c5-ac87-4b36-aa1a-b73233fe6c21",
   "metadata": {},
   "source": [
    "AÑADIR"
   ]
  },
  {
   "cell_type": "code",
   "execution_count": 14,
   "id": "2688887d-6a5a-4161-9445-3790044ad8d9",
   "metadata": {},
   "outputs": [
    {
     "name": "stdout",
     "output_type": "stream",
     "text": [
      "¿Quieres agregar un nuevo registro?:  si\n",
      "Introduce el nombre del nuevo pokemon:  squirtle\n",
      "Introuce el tipo del pokemon squirtle:  agguua\n",
      "Introduce un ataque para el pokemon squirtle:  burbuja\n",
      "      pokemon       tipo       ataque\n",
      "0     pikachu  electrico  impactrueno\n",
      "1  charmander      fuego       ascuas\n",
      "2        evee     normal      placaje\n",
      "3    squirtle       agua      burbuja\n",
      "4    squirtle     agguua      burbuja\n"
     ]
    },
    {
     "data": {
      "text/html": [
       "<div>\n",
       "<style scoped>\n",
       "    .dataframe tbody tr th:only-of-type {\n",
       "        vertical-align: middle;\n",
       "    }\n",
       "\n",
       "    .dataframe tbody tr th {\n",
       "        vertical-align: top;\n",
       "    }\n",
       "\n",
       "    .dataframe thead th {\n",
       "        text-align: right;\n",
       "    }\n",
       "</style>\n",
       "<table border=\"1\" class=\"dataframe\">\n",
       "  <thead>\n",
       "    <tr style=\"text-align: right;\">\n",
       "      <th></th>\n",
       "      <th>pokemon</th>\n",
       "      <th>tipo</th>\n",
       "      <th>ataque</th>\n",
       "    </tr>\n",
       "  </thead>\n",
       "  <tbody>\n",
       "    <tr>\n",
       "      <th>0</th>\n",
       "      <td>pikachu</td>\n",
       "      <td>electrico</td>\n",
       "      <td>impactrueno</td>\n",
       "    </tr>\n",
       "    <tr>\n",
       "      <th>1</th>\n",
       "      <td>charmander</td>\n",
       "      <td>fuego</td>\n",
       "      <td>ascuas</td>\n",
       "    </tr>\n",
       "    <tr>\n",
       "      <th>2</th>\n",
       "      <td>evee</td>\n",
       "      <td>normal</td>\n",
       "      <td>placaje</td>\n",
       "    </tr>\n",
       "    <tr>\n",
       "      <th>3</th>\n",
       "      <td>squirtle</td>\n",
       "      <td>agua</td>\n",
       "      <td>burbuja</td>\n",
       "    </tr>\n",
       "    <tr>\n",
       "      <th>4</th>\n",
       "      <td>squirtle</td>\n",
       "      <td>agguua</td>\n",
       "      <td>burbuja</td>\n",
       "    </tr>\n",
       "  </tbody>\n",
       "</table>\n",
       "</div>"
      ],
      "text/plain": [
       "      pokemon       tipo       ataque\n",
       "0     pikachu  electrico  impactrueno\n",
       "1  charmander      fuego       ascuas\n",
       "2        evee     normal      placaje\n",
       "3    squirtle       agua      burbuja\n",
       "4    squirtle     agguua      burbuja"
      ]
     },
     "execution_count": 14,
     "metadata": {},
     "output_type": "execute_result"
    }
   ],
   "source": [
    "#Crear una instancia de la clase GestorPokedex\n",
    "gestor_pokedex = GestorPokedex(pokemon_object)\n",
    "\n",
    "# Llamar al método agregar_registro en la instancia del gestor\n",
    "gestor_pokedex.agregar_registro()\n",
    "\n",
    "# Imprimir o trabajar con pokedex_df en otras celdas\n",
    "print(gestor_pokedex.obtener_pokedex())\n",
    "dataframe_pokedex=gestor_pokedex.obtener_pokedex()\n",
    "dataframe_pokedex"
   ]
  },
  {
   "cell_type": "markdown",
   "id": "95d6033e-c76d-467a-8e47-c5661d55fa5b",
   "metadata": {},
   "source": [
    "ELIMINAR"
   ]
  },
  {
   "cell_type": "code",
   "execution_count": 16,
   "id": "70b65499-3bb2-4e1a-97f8-15f09b9bb4f3",
   "metadata": {},
   "outputs": [
    {
     "name": "stdout",
     "output_type": "stream",
     "text": [
      "¿Quieres eliminar un nuevo registro?:  si\n",
      "Indica el nombre del pokemon que quieres eliminar:  squirtle\n",
      "Se eliminaron duplicados en la Pokedex.\n",
      "      pokemon       tipo       ataque\n",
      "0     pikachu  electrico  impactrueno\n",
      "1  charmander      fuego       ascuas\n",
      "2        evee     normal      placaje\n",
      "3    squirtle       agua      burbuja\n"
     ]
    },
    {
     "data": {
      "text/html": [
       "<div>\n",
       "<style scoped>\n",
       "    .dataframe tbody tr th:only-of-type {\n",
       "        vertical-align: middle;\n",
       "    }\n",
       "\n",
       "    .dataframe tbody tr th {\n",
       "        vertical-align: top;\n",
       "    }\n",
       "\n",
       "    .dataframe thead th {\n",
       "        text-align: right;\n",
       "    }\n",
       "</style>\n",
       "<table border=\"1\" class=\"dataframe\">\n",
       "  <thead>\n",
       "    <tr style=\"text-align: right;\">\n",
       "      <th></th>\n",
       "      <th>pokemon</th>\n",
       "      <th>tipo</th>\n",
       "      <th>ataque</th>\n",
       "    </tr>\n",
       "  </thead>\n",
       "  <tbody>\n",
       "    <tr>\n",
       "      <th>0</th>\n",
       "      <td>pikachu</td>\n",
       "      <td>electrico</td>\n",
       "      <td>impactrueno</td>\n",
       "    </tr>\n",
       "    <tr>\n",
       "      <th>1</th>\n",
       "      <td>charmander</td>\n",
       "      <td>fuego</td>\n",
       "      <td>ascuas</td>\n",
       "    </tr>\n",
       "    <tr>\n",
       "      <th>2</th>\n",
       "      <td>evee</td>\n",
       "      <td>normal</td>\n",
       "      <td>placaje</td>\n",
       "    </tr>\n",
       "    <tr>\n",
       "      <th>3</th>\n",
       "      <td>squirtle</td>\n",
       "      <td>agua</td>\n",
       "      <td>burbuja</td>\n",
       "    </tr>\n",
       "  </tbody>\n",
       "</table>\n",
       "</div>"
      ],
      "text/plain": [
       "      pokemon       tipo       ataque\n",
       "0     pikachu  electrico  impactrueno\n",
       "1  charmander      fuego       ascuas\n",
       "2        evee     normal      placaje\n",
       "3    squirtle       agua      burbuja"
      ]
     },
     "execution_count": 16,
     "metadata": {},
     "output_type": "execute_result"
    }
   ],
   "source": [
    "#Crear una instancia de la clase GestorPokedex\n",
    "gestor_pokedex = GestorPokedex(pokemon_object)\n",
    "\n",
    "# Eliminar un registro por nombre de Pokémon\n",
    "gestor_pokedex.eliminar_registro()\n",
    "\n",
    "# Imprimir o trabajar con pokedex_df en otras celdas\n",
    "print(gestor_pokedex.obtener_pokedex())\n",
    "\n",
    "dataframe_pokedex=gestor_pokedex.obtener_pokedex()\n",
    "dataframe_pokedex"
   ]
  },
  {
   "cell_type": "code",
   "execution_count": 29,
   "id": "9a2dfdd9-4fe6-439e-a38d-7fe8073ab54f",
   "metadata": {},
   "outputs": [],
   "source": [
    "import psycopg2\n",
    "from sqlalchemy import create_engine"
   ]
  },
  {
   "cell_type": "code",
   "execution_count": 31,
   "id": "2e45fc49-373f-47d1-9ef6-fb1d7efedf3d",
   "metadata": {},
   "outputs": [
    {
     "name": "stdout",
     "output_type": "stream",
     "text": [
      "DataFrame subido a la tabla pokedex_table_1 en la base de datos.\n"
     ]
    }
   ],
   "source": [
    "# Parámetros de conexión a la base de datos\n",
    "DB_HOST = \"postgresql_container\"  # Cambia esto a la dirección IP del contenedor PostgreSQL\n",
    "DB_PORT = \"5432\"\n",
    "DB_NAME = \"mydatabase\"\n",
    "DB_USER = \"myuser\"\n",
    "DB_PASSWORD = \"mypassword\"\n",
    "\n",
    "# Crear la cadena de conexión\n",
    "db_url = f\"postgresql://{DB_USER}:{DB_PASSWORD}@{DB_HOST}:{DB_PORT}/{DB_NAME}\"\n",
    "\n",
    "# Crear un objeto de motor SQLAlchemy\n",
    "engine = create_engine(db_url)\n",
    "\n",
    "# DataFrame de ejemplo (reemplazarlo con tu DataFrame pokedex_df)\n",
    "pokedex_df = dataframe_pokedex\n",
    "\n",
    "\n",
    "# Nombre de la tabla en la base de datos\n",
    "table_name = 'pokedex_table'\n",
    "\n",
    "# Subir el DataFrame a la base de datos\n",
    "pokedex_df.to_sql(table_name, engine, if_exists='replace', index=False)\n",
    "\n",
    "print(f'DataFrame subido a la tabla {table_name} en la base de datos.')\n"
   ]
  },
  {
   "cell_type": "code",
   "execution_count": null,
   "id": "cc8f6c58-c2a4-4e36-92da-20f2db5b9ca3",
   "metadata": {},
   "outputs": [],
   "source": []
  }
 ],
 "metadata": {
  "kernelspec": {
   "display_name": "Python 3",
   "language": "python",
   "name": "python3"
  },
  "language_info": {
   "codemirror_mode": {
    "name": "ipython",
    "version": 3
   },
   "file_extension": ".py",
   "mimetype": "text/x-python",
   "name": "python",
   "nbconvert_exporter": "python",
   "pygments_lexer": "ipython3",
   "version": "3.8.8"
  }
 },
 "nbformat": 4,
 "nbformat_minor": 5
}
